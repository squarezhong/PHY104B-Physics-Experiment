{
 "cells": [
  {
   "cell_type": "markdown",
   "metadata": {},
   "source": [
    "# 使用激光测距仪测量材料折射率\n",
    "\n",
    "## 实验原理\n",
    "激光在不同折射率的材料中折射率不同，但激光测距仪仅会使用空气中光速来计算距离。通过比较材料置于测距路径时的测距值和空气中的测距值，可以计算出材料的折射率。\n",
    "\n",
    "实验所用的材料为亚克力。\n",
    "\n",
    "材料的折射率真值通过分光机（最小偏向角）测得，作为近似真值。\n"
   ]
  },
  {
   "cell_type": "code",
   "execution_count": 12,
   "metadata": {},
   "outputs": [
    {
     "name": "stdout",
     "output_type": "stream",
     "text": [
      "1.4977103678403934\n",
      "1.4878317633125941\n",
      "1.486469475056611\n"
     ]
    }
   ],
   "source": [
    "import numpy as np\n",
    "\n",
    "def calculate_refractive_index(A, sigma_min):\n",
    "    n = (np.sin(0.5 * (sigma_min + A))) / (np.sin(0.5 * A))\n",
    "    return n\n",
    "   \n",
    "\n",
    "# convert degrees to radians \n",
    "A = np.radians(59 + 59/60) \n",
    "# purple, green, yellow\n",
    "sigma_min_list = [np.radians(36 + 58/60),\n",
    "                  np.radians(36 + 7/60),\n",
    "                  np.radians(36)]\n",
    "\n",
    "for sigma_min in sigma_min_list:\n",
    "    print(calculate_refractive_index(A, sigma_min))"
   ]
  },
  {
   "cell_type": "markdown",
   "metadata": {},
   "source": [
    "# 使用分光机测量亚克力的折射率\n",
    "\n",
    "## 柯西色散公式与折射率修正\n",
    "\n",
    "$$\n",
    "n(\\lambda) = B + \\frac{C}{\\lambda^2} + \\frac{D}{\\lambda^4}\n",
    "$$\n",
    "\n",
    "利用三组波长和折射率联立解得柯西色散公式系数\n",
    "\n",
    "代入黄色光（波长为0.589微米）计算得到标准折射率。"
   ]
  },
  {
   "cell_type": "code",
   "execution_count": 10,
   "metadata": {},
   "outputs": [
    {
     "name": "stdout",
     "output_type": "stream",
     "text": [
      "[1.48205862056845, -0.000473228255535702, 0.000654425131973435]\n",
      "1.48613203381719\n"
     ]
    }
   ],
   "source": [
    "from sympy import symbols, Eq, solve\n",
    "\n",
    "def cal_cauchy_coe(n_list, wavelength_list):\n",
    "    B, C, D = symbols('B C D')\n",
    "\n",
    "    # define equations\n",
    "    eq1 = Eq(B + C / wavelength_list[0]**2 + D / wavelength_list[0]**4, n_list[0])\n",
    "    eq2 = Eq(B + C / wavelength_list[1]**2 + D / wavelength_list[1]**4, n_list[1])\n",
    "    eq3 = Eq(B + C / wavelength_list[2]**2 + D / wavelength_list[2]**4, n_list[2])\n",
    "\n",
    "    solution = solve((eq1, eq2, eq3), (B, C, D), list=True)\n",
    "    return [solution[B], solution[C], solution[D]]\n",
    "\n",
    "def cauchy_equation(wavelength, coes):\n",
    "    B = coes[0]\n",
    "    C = coes[1]\n",
    "    D = coes[2]\n",
    "    n = B + C / wavelength**2 + D / wavelength**4\n",
    "    return n\n",
    "\n",
    "# purple, green, yellow\n",
    "n_list = [1.49771, 1.48783, 1.48647]\n",
    "wave_list = [0.4358, 0.5461, 0.5790]\n",
    "\n",
    "coes = cal_cauchy_coe(n_list, wave_list)\n",
    "print(coes)\n",
    "\n",
    "# substitute 0.589 to get the corrected refractive index\n",
    "n_corrected = cauchy_equation(0.589, coes)\n",
    "\n",
    "print(n_corrected)"
   ]
  }
 ],
 "metadata": {
  "kernelspec": {
   "display_name": "sovits",
   "language": "python",
   "name": "python3"
  },
  "language_info": {
   "codemirror_mode": {
    "name": "ipython",
    "version": 3
   },
   "file_extension": ".py",
   "mimetype": "text/x-python",
   "name": "python",
   "nbconvert_exporter": "python",
   "pygments_lexer": "ipython3",
   "version": "3.9.20"
  }
 },
 "nbformat": 4,
 "nbformat_minor": 2
}
