{
 "cells": [
  {
   "cell_type": "markdown",
   "metadata": {},
   "source": [
    "# 使用激光测距仪测量材料折射率\n",
    "\n",
    "## 实验原理\n",
    "激光在不同折射率的材料中折射率不同，但激光测距仪仅会使用空气中光速来计算距离。通过比较材料置于测距路径时的测距值和空气中的测距值，可以计算出材料的折射率。\n",
    "\n",
    "实验所用的材料为亚克力。\n",
    "\n",
    "材料的折射率真值通过分光机（最小偏向角）测得，作为近似真值。\n"
   ]
  },
  {
   "cell_type": "code",
   "execution_count": null,
   "metadata": {},
   "outputs": [],
   "source": []
  }
 ],
 "metadata": {
  "kernelspec": {
   "display_name": "development",
   "language": "python",
   "name": "python3"
  },
  "language_info": {
   "name": "python",
   "version": "3.10.10"
  }
 },
 "nbformat": 4,
 "nbformat_minor": 2
}
