{
 "cells": [
  {
   "cell_type": "markdown",
   "metadata": {},
   "source": [
    "# 使用激光测距仪测量材料折射率\n",
    "\n",
    "## 实验原理\n",
    "激光在不同折射率的材料中折射率不同，但激光测距仪仅会使用空气中光速来计算距离。通过比较材料置于测距路径时的测距值和空气中的测距值，可以计算出材料的折射率。\n",
    "\n",
    "实验所用的材料为亚克力。\n",
    "\n",
    "材料的折射率真值通过分光机（最小偏向角）测得，作为近似真值。\n"
   ]
  },
  {
   "cell_type": "code",
   "execution_count": 10,
   "metadata": {},
   "outputs": [
    {
     "name": "stdout",
     "output_type": "stream",
     "text": [
      "1.4862896509547887\n"
     ]
    }
   ],
   "source": [
    "import numpy as np\n",
    "\n",
    "def calculate_refractive_index(A, sigma_min):\n",
    "    n = (np.sin(0.5 * (sigma_min + A))) / (np.sin(0.5 * A))\n",
    "    return n\n",
    "   \n",
    "# convert degrees to radians \n",
    "A = np.radians(60)\n",
    "sigma_min = np.radians(36)\n",
    "\n",
    "print(calculate_refractive_index(A, sigma_min))"
   ]
  },
  {
   "cell_type": "code",
   "execution_count": null,
   "metadata": {},
   "outputs": [],
   "source": [
    "from sympy import symbols, Eq, solve\n",
    "\n",
    "def cal_cauchy_coe(n_list, wavelength_list):\n",
    "    B, C, D = symbols('B C D')\n",
    "\n",
    "    # define equations\n",
    "    eq1 = Eq(B + C / wavelength_list[0]**2 + D / wavelength_list[0]**4, n_list[0]**2)\n",
    "    eq2 = Eq(B + C / wavelength_list[1]**2 + D / wavelength_list[1]**4, n_list[1]**2)\n",
    "    eq3 = Eq(B + C / wavelength_list[2]**2 + D / wavelength_list[2]**4, n_list[2]**2)\n",
    "\n",
    "    solution = solve((eq1, eq2, eq3), (B, C, D))\n",
    "    return solution"
   ]
  }
 ],
 "metadata": {
  "kernelspec": {
   "display_name": "sovits",
   "language": "python",
   "name": "python3"
  },
  "language_info": {
   "codemirror_mode": {
    "name": "ipython",
    "version": 3
   },
   "file_extension": ".py",
   "mimetype": "text/x-python",
   "name": "python",
   "nbconvert_exporter": "python",
   "pygments_lexer": "ipython3",
   "version": "3.9.20"
  }
 },
 "nbformat": 4,
 "nbformat_minor": 2
}
