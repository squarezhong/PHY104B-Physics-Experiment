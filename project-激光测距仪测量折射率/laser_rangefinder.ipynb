{
 "cells": [
  {
   "cell_type": "markdown",
   "metadata": {},
   "source": [
    "# 使用激光测距仪测量材料折射率\n",
    "\n",
    "## 实验原理\n",
    "激光在不同折射率的材料中折射率不同，但激光测距仪仅会使用空气中光速来计算距离。通过比较材料置于测距路径时的测距值和空气中的测距值，可以计算出材料的折射率。\n",
    "\n",
    "实验所用的材料为亚克力。\n",
    "\n",
    "材料的折射率真值通过分光机（最小偏向角）测得，作为近似真值。\n"
   ]
  },
  {
   "cell_type": "code",
   "execution_count": 5,
   "metadata": {},
   "outputs": [
    {
     "name": "stdout",
     "output_type": "stream",
     "text": [
      "1.4977103678403934\n",
      "1.4878317633125941\n",
      "1.486469475056611\n"
     ]
    }
   ],
   "source": [
    "import numpy as np\n",
    "\n",
    "def calculate_refractive_index(A, delta_min):\n",
    "    n = (np.sin(0.5 * (delta_min + A))) / (np.sin(0.5 * A))\n",
    "    return n\n",
    "   \n",
    "\n",
    "# convert degrees to radians \n",
    "A = np.radians(59 + 59/60) \n",
    "# purple, green, yellow\n",
    "delta_min_list = [np.radians(36 + 58/60),\n",
    "                  np.radians(36 + 7/60),\n",
    "                  np.radians(36)]\n",
    "\n",
    "for delta_min in delta_min_list:\n",
    "    print(calculate_refractive_index(A, delta_min))"
   ]
  },
  {
   "cell_type": "markdown",
   "metadata": {},
   "source": [
    "# 使用分光机测量亚克力的折射率\n",
    "\n",
    "## 柯西色散公式与折射率修正\n",
    "\n",
    "$$\n",
    "n(\\lambda) = B + \\frac{C}{\\lambda^2} + \\frac{D}{\\lambda^4}\n",
    "$$\n",
    "\n",
    "利用三组波长和折射率联立解得柯西色散公式系数\n",
    "\n",
    "代入黄色光（波长为0.589微米）计算得到标准折射率。"
   ]
  },
  {
   "cell_type": "code",
   "execution_count": 8,
   "metadata": {},
   "outputs": [
    {
     "name": "stdout",
     "output_type": "stream",
     "text": [
      "Cauchy Coes: [1.48205862056845, -0.000473228255535702, 0.000654425131973435]\n",
      "n_corrected: 1.48613203381719\n"
     ]
    }
   ],
   "source": [
    "from sympy import symbols, Eq, solve\n",
    "\n",
    "def cal_cauchy_coe(n_list, wavelength_list):\n",
    "    B, C, D = symbols('B C D')\n",
    "\n",
    "    # define equations\n",
    "    eq1 = Eq(B + C / wavelength_list[0]**2 + D / wavelength_list[0]**4, n_list[0])\n",
    "    eq2 = Eq(B + C / wavelength_list[1]**2 + D / wavelength_list[1]**4, n_list[1])\n",
    "    eq3 = Eq(B + C / wavelength_list[2]**2 + D / wavelength_list[2]**4, n_list[2])\n",
    "\n",
    "    solution = solve((eq1, eq2, eq3), (B, C, D), list=True)\n",
    "    return [solution[B], solution[C], solution[D]]\n",
    "\n",
    "def cauchy_equation(wavelength, coes):\n",
    "    B = coes[0]\n",
    "    C = coes[1]\n",
    "    D = coes[2]\n",
    "    n = B + C / wavelength**2 + D / wavelength**4\n",
    "    return n\n",
    "\n",
    "# purple, green, yellow\n",
    "n_list = [1.49771, 1.48783, 1.48647]\n",
    "wave_list = [0.4358, 0.5461, 0.5790]\n",
    "\n",
    "coes = cal_cauchy_coe(n_list, wave_list)\n",
    "print(\"Cauchy Coes:\", coes)\n",
    "\n",
    "# substitute 0.589 to get the corrected refractive index\n",
    "n_corrected = cauchy_equation(0.589, coes)\n",
    "\n",
    "print(\"n_corrected:\", n_corrected)"
   ]
  },
  {
   "cell_type": "markdown",
   "metadata": {},
   "source": [
    "折射率不确定度计算\n",
    "\n",
    "$U(\\delta_{min})$ 和 $U(A)$ 的计算参考之前实验的 A B 类不确定度合成，较为简单。\n",
    "\n",
    "这里只列出折射率不确定度 $U(n)$ 的计算公式。\n",
    "\n",
    "$$\n",
    "U^2(n) = \\left( \\frac{\\partial n}{\\partial \\delta_{\\text{min}}} \\right)^2 U^2(\\delta_{\\text{min}}) + \\left( \\frac{\\partial n}{\\partial A} \\right)^2 U^2(A)\n",
    "$$\n",
    "\n",
    "$$\n",
    "U(n) = \\sqrt{\n",
    "\\left(\n",
    "\\frac{\\cos\\left(\\frac{\\delta_{\\text{min}} + A}{2}\\right)}\n",
    "{2 \\sin\\left(\\frac{A}{2}\\right)}\n",
    "\\right)^2 U^2(\\delta_{\\text{min}}) +\n",
    "\\left(\n",
    "\\frac{\\sin\\left(\\frac{\\delta_{\\text{min}}}{2}\\right)}\n",
    "{2 \\sin^2\\left(\\frac{A}{2}\\right)}\n",
    "\\right)^2 U^2(A)\n",
    "}\n",
    "$$"
   ]
  },
  {
   "cell_type": "code",
   "execution_count": 7,
   "metadata": {},
   "outputs": [
    {
     "name": "stdout",
     "output_type": "stream",
     "text": [
      "U(n): 0.0007952543151544224\n"
     ]
    }
   ],
   "source": [
    "def U_n(delta, U_delta, A, U_A):\n",
    "    U_n = np.sqrt(\n",
    "        (np.cos(0.5 * (A + delta)) * U_delta / (2 * np.sin(0.5 * A)))**2 + \\\n",
    "        (np.sin(0.5 * delta) * U_A / (2 * np.sin(0.5 * A)**2))**2\n",
    "        )\n",
    "    return U_n\n",
    "\n",
    "U_n_yellow = U_n(delta_min_list[2], np.radians(3/60), A, np.radians(3/60))\n",
    "print(\"U(n):\", U_n_yellow)"
   ]
  }
 ],
 "metadata": {
  "kernelspec": {
   "display_name": "sovits",
   "language": "python",
   "name": "python3"
  },
  "language_info": {
   "codemirror_mode": {
    "name": "ipython",
    "version": 3
   },
   "file_extension": ".py",
   "mimetype": "text/x-python",
   "name": "python",
   "nbconvert_exporter": "python",
   "pygments_lexer": "ipython3",
   "version": "3.9.20"
  }
 },
 "nbformat": 4,
 "nbformat_minor": 2
}
