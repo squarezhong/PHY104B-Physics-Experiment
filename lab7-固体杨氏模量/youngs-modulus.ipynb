{
 "cells": [
  {
   "cell_type": "markdown",
   "metadata": {},
   "source": [
    "# 固体杨氏模量测量\n",
    "\n",
    "## 实验原理\n",
    "请参考实验指导书\n",
    "\n",
    "$$\n",
    "E = \\displaystyle \\frac{2DLF}{Slb}\n",
    "$$\n",
    "\n",
    "$S$: 金属丝截面积，通过测量出的直径计算\n",
    "\n",
    "$b$: 望远镜中标尺移动距离\n",
    "\n",
    "其它变量含义见数据记录部分\n",
    "\n",
    "## 数据记录\n",
    "$r_i$: 望远镜中标尺读数，1kg 到 8kg，每次增加1kg\n",
    "\n",
    "$r_i'$: 望远镜中标尺读数，从8kg 到 1kg，每次减少1kg （8kg数据由 9kg 减少一个砝码得到）\n",
    "\n",
    "$\\bar{r_i}$: 标尺平均读数，$\\bar{r_i}\\displaystyle\\frac{r_i + r_i'}{2}$\n",
    "\n",
    "$L$: 钢丝长度\n",
    "\n",
    "$D$: 平面镜与直尺之间的距离\n",
    "\n",
    "$l$: 光杠杆的臂长\n",
    "\n",
    "$d$: 金属丝直径，上中下共测六次，取平均值\n",
    "\n",
    "$\\bar{d} = \\displaystyle \\frac{\\sum_{i=1}^6{d}}{6}$"
   ]
  },
  {
   "cell_type": "code",
   "execution_count": 24,
   "metadata": {},
   "outputs": [],
   "source": [
    "# record data\n",
    "L = 80.35 # cm\n",
    "D = 130.00 # cm\n",
    "l = 7.50 # cm\n",
    "m = 1 # kg\n",
    "d = [0.600, 0.595, 0.593, 0.604, 0.595, 0.602] # mm\n",
    "r_i = [0.20, 0.80, 1.39, 1.96, 2.51, 3.08, 3.60, 4.15] # cm\n",
    "r_i_prime = [0.20, 0.81, 1.40, 2.00, 2.55, 3.10, 3.61, 4.18] # cm\n",
    "\n",
    "# constant\n",
    "# gravitational acceleration at Shenzhen\n",
    "g = 9.7887\n",
    "\n",
    "# uncertainty\n",
    "delta_m = 0.005 # kg\n",
    "delta_L = 0.05 # mm\n",
    "delta_D = 0.05 # mm\n",
    "delta_l = 0.05 # mm\n",
    "delta_d = 0.001 # mm\n",
    "delta_b = 0.05 # mm"
   ]
  },
  {
   "cell_type": "markdown",
   "metadata": {},
   "source": [
    "## 数据处理\n",
    "1. 用逐差法计算 1kg 对应的 $b$ 值 (作图法基本等价于最小二乘，很简单，这里就懒得写了)\n",
    "2. 计算金属杨氏模量 $E$\n",
    "3. 估算最大不确定度"
   ]
  },
  {
   "cell_type": "code",
   "execution_count": 25,
   "metadata": {},
   "outputs": [
    {
     "name": "stdout",
     "output_type": "stream",
     "text": [
      "0.563125\n",
      "1.72e+11\n",
      "0.010745518868539378\n",
      "1.85e+09\n"
     ]
    }
   ],
   "source": [
    "import math\n",
    "\n",
    "r_i_bar = [0.5 * (r_i[i] + r_i_prime[i]) for i in range(len(r_i))]\n",
    "d_bar = sum(d) / len(d) # mm\n",
    "\n",
    "b = sum([r_i_bar[i+4] - r_i_bar[i] for i in range(4)]) / (4 * 4) # cm\n",
    "\n",
    "E = (2 * (D/100) * (L/100) * (m * g)) / ((math.pi * (d_bar/1000)**2 / 4) * (l/100) * (b/100))\n",
    "\n",
    "deltaE_E = math.sqrt((delta_m / m)**2 + (delta_L / L / 10)**2 + (delta_D / D / 10)**2 + (delta_l / l / 10)**2 + (2 * delta_d / d_bar)**2 + (delta_b / b / 10)**2)\n",
    "uncertainty_E = deltaE_E * E\n",
    "\n",
    "print(b)\n",
    "print(\"{:.2e}\".format(E))\n",
    "print(deltaE_E)\n",
    "print(\"{:.2e}\".format(uncertainty_E))"
   ]
  },
  {
   "cell_type": "markdown",
   "metadata": {},
   "source": [
    "## Results\n",
    "$$\n",
    "E = (1.72 \\pm 0.02) \\times 10^{11} \\text{Pa}\n",
    "$$"
   ]
  }
 ],
 "metadata": {
  "kernelspec": {
   "display_name": "development",
   "language": "python",
   "name": "python3"
  },
  "language_info": {
   "codemirror_mode": {
    "name": "ipython",
    "version": 3
   },
   "file_extension": ".py",
   "mimetype": "text/x-python",
   "name": "python",
   "nbconvert_exporter": "python",
   "pygments_lexer": "ipython3",
   "version": "3.10.10"
  }
 },
 "nbformat": 4,
 "nbformat_minor": 2
}
