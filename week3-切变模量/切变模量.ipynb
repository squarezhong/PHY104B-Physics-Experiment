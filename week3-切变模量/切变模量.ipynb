{
 "cells": [
  {
   "cell_type": "markdown",
   "metadata": {},
   "source": [
    "# 切变模量测量"
   ]
  },
  {
   "cell_type": "code",
   "execution_count": 1,
   "metadata": {},
   "outputs": [],
   "source": [
    "import numpy as np\n",
    "\n",
    "# 钢丝长度 l (mm)\n",
    "l = np.array([565.5, 565.2, 565.8])\n",
    "# 钢丝直径 d (mm)\n",
    "d = np.array([0.663, 0.663, 0.663])\n",
    "# 圆环内直径 d_in (mm)\n",
    "d_in = np.array([80.02, 79.98, 79.98])\n",
    "# 圆环外直径 d_out (mm)\n",
    "d_out = np.array([110.10, 109.88, 110.00])\n",
    "# 圆环质量 m (g)\n",
    "m = 415.30\n",
    "# 无环周期 T0 (s)\n",
    "T0 = 2.591\n",
    "# 有环周期 T1 (s)\n",
    "T1 = 4.429\n",
    "\n",
    "# 千分尺零点误差 err (mm)\n",
    "err = -0.023"
   ]
  },
  {
   "cell_type": "code",
   "execution_count": 2,
   "metadata": {},
   "outputs": [
    {
     "name": "stdout",
     "output_type": "stream",
     "text": [
      "钢丝长度 l = 565.5\n",
      "钢丝直径 d = 0.663\n",
      "圆环内直径 d_in = 79.99333333333334\n",
      "圆环外直径 d_out = 109.99333333333334\n",
      "钢丝半径 r = 0.343\n",
      "圆环内半径 r_in = 39.99666666666667\n",
      "圆环外半径 r_out = 54.99666666666667\n"
     ]
    }
   ],
   "source": [
    "l_bar = np.mean(l)\n",
    "\n",
    "# 钢丝直径 r = (d_bar -err)/2 (mm)\n",
    "d_bar = np.mean(d)\n",
    "r = (d_bar - err) / 2\n",
    "\n",
    "d_in_bar = np.mean(d_in)\n",
    "d_out_bar = np.mean(d_out)\n",
    "r_in = d_in_bar / 2\n",
    "r_out = d_out_bar / 2\n",
    "\n",
    "print('钢丝长度 l =', l_bar)\n",
    "print('钢丝直径 d =', d_bar)\n",
    "print('圆环内直径 d_in =', d_in_bar)\n",
    "print('圆环外直径 d_out =', d_out_bar)\n",
    "print('钢丝半径 r =', r)\n",
    "print('圆环内半径 r_in =', r_in)\n",
    "print('圆环外半径 r_out =', r_out)"
   ]
  },
  {
   "cell_type": "code",
   "execution_count": 5,
   "metadata": {},
   "outputs": [],
   "source": [
    "# unit: GPa\n",
    "def calculate_G(l, r, D):\n",
    "    return 2 * l * D / (np.pi * r**4) / 1e9\n",
    "\n",
    "def calculate_D(m, r_in, r_out, T1, T0):\n",
    "    return 2 * np.pi**2 * m * (r_in**2 + r_out**2) / (T1**2 - T0**2)"
   ]
  },
  {
   "cell_type": "code",
   "execution_count": 6,
   "metadata": {},
   "outputs": [
    {
     "name": "stdout",
     "output_type": "stream",
     "text": [
      "D = 0.0029380644417604652\n",
      "G = 76.41833466807327\n"
     ]
    }
   ],
   "source": [
    "D = calculate_D(m/1000, r_in/1000, r_out/1000, T1, T0)\n",
    "G = calculate_G(l_bar/1000, r/1000, D)\n",
    "\n",
    "print('D =', D)\n",
    "print('G =', G)"
   ]
  },
  {
   "cell_type": "markdown",
   "metadata": {},
   "source": [
    "## 不确定度计算\n",
    "\n",
    "$$\n",
    "\\frac{\\Delta G}{G}=\\frac{\\Delta l}{l}+\\frac{\\Delta m}{m}+\\frac{2 r_{\\text {in }} \\Delta r_{\\text {in }}}{r_{\\text {in }}^2+r_{\\text {out }}^2}+\\frac{2 r_{\\text {out }} \\Delta r_{\\text {out }}}{r_{\\text {in }}^2+r_{\\text {out }}^2}+\\frac{4 \\Delta R}{R}+\\frac{2 T_1 \\Delta T_1}{T_1^2-T_0^2}+\\frac{2 T_0 \\Delta T_0}{T_1^2-T_0^2}\n",
    "$$\n"
   ]
  },
  {
   "cell_type": "code",
   "execution_count": 7,
   "metadata": {},
   "outputs": [],
   "source": [
    "delta_l = 1 # mm\n",
    "delta_m = 0.1 # g\n",
    "delta_r_in = 0.01 # mm\n",
    "delta_r_out = 0.01 # mm\n",
    "delta_r = 0.002 # mm\n",
    "\n",
    "delta_t = 0.001 # s\n",
    "n = 10\n",
    "delta_T0 = delta_t / n # s\n",
    "delta_T1 = delta_t / n # s"
   ]
  },
  {
   "cell_type": "code",
   "execution_count": 12,
   "metadata": {},
   "outputs": [
    {
     "name": "stdout",
     "output_type": "stream",
     "text": [
      "item_l = 0.0018\n",
      "item_m = 0.0002\n",
      "item_r_in = 0.0002\n",
      "item_r_out = 0.0002\n",
      "item_r = 0.0233\n",
      "item_T1 = 0.0001\n",
      "item_T0 = 0.0\n",
      "uncertainty_G = 1.976\n",
      "max_item = 4 0.0233\n"
     ]
    }
   ],
   "source": [
    "item_l = delta_l / l_bar\n",
    "item_m = delta_m / m\n",
    "item_r_in = 2 * r_in * delta_r_in / (r_in**2 + r_out**2)\n",
    "item_r_out = 2 * r_out * delta_r_out / (r_in**2 + r_out**2)\n",
    "item_r = 4 * delta_r / r\n",
    "item_T1 = 2 * T1 * delta_T1 / (T1**2 - T0**2)\n",
    "item_T0 = 2 * T0 * delta_T0 / (T1**2 - T0**2)\n",
    "\n",
    "# find the maximum item: position and value\n",
    "items = np.array([item_l, item_m, item_r_in, item_r_out, item_r, item_T1, item_T0])\n",
    "max_item = np.max(items)\n",
    "max_item_index = np.argmax(items)\n",
    "\n",
    "uncertainty_G = np.sum(items) * G\n",
    "\n",
    "print('item_l =', round(item_l, 4))\n",
    "print('item_m =', round(item_m, 4))\n",
    "print('item_r_in =', round(item_r_in, 4))\n",
    "print('item_r_out =', round(item_r_out, 4))\n",
    "print('item_r =', round(item_r, 4))\n",
    "print('item_T1 =', round(item_T1, 4))\n",
    "print('item_T0 =', round(item_T0, 4))\n",
    "print('uncertainty_G =', round(uncertainty_G, 3))\n",
    "print('max_item_index =', max_item_index, 'value =', round(max_item, 4))\n"
   ]
  }
 ],
 "metadata": {
  "kernelspec": {
   "display_name": "sovits",
   "language": "python",
   "name": "python3"
  },
  "language_info": {
   "codemirror_mode": {
    "name": "ipython",
    "version": 3
   },
   "file_extension": ".py",
   "mimetype": "text/x-python",
   "name": "python",
   "nbconvert_exporter": "python",
   "pygments_lexer": "ipython3",
   "version": "3.9.20"
  }
 },
 "nbformat": 4,
 "nbformat_minor": 2
}
