{
 "cells": [
  {
   "cell_type": "markdown",
   "metadata": {},
   "source": [
    "# 分光计实验\n",
    "该实验的最大困难在于调试好仪器，其中涉及不少技巧，详见实验讲义和课堂中老师的讲解。\n",
    "\n",
    "本实验计算非常简单。"
   ]
  },
  {
   "cell_type": "code",
   "execution_count": 5,
   "metadata": {},
   "outputs": [],
   "source": [
    "# DMS Angle\n",
    "class DMSAngle:\n",
    "    def __init__(self, degrees, minutes=0, seconds=0):\n",
    "        self.degrees = degrees\n",
    "        self.minutes = minutes\n",
    "        self.seconds = seconds\n",
    "        \n",
    "    def __str__(self):\n",
    "        return f\"{self.degrees}°{self.minutes}'{self.seconds}\\\"\"\n",
    "    \n",
    "    def to_decimal(self):\n",
    "        return self.degrees + self.minutes/60 + self.seconds/3600\n",
    "    \n",
    "    def __add__(self, other):\n",
    "        sum_seconds = self.seconds + other.seconds\n",
    "        sum_minutes = self.minutes + other.minutes + sum_seconds//60\n",
    "        sum_seconds %= 60\n",
    "        sum_degrees = self.degrees + other.degrees + sum_minutes//60\n",
    "        sum_minutes %= 60\n",
    "        return DMSAngle(sum_degrees, sum_minutes, sum_seconds)\n",
    "    \n",
    "    def __sub__(self, other):\n",
    "        sub_seconds = self.seconds - other.seconds\n",
    "        sub_minutes = self.minutes - other.minutes + sub_seconds//60\n",
    "        sub_seconds %= 60\n",
    "        sub_degrees = self.degrees - other.degrees + sub_minutes//60\n",
    "        sub_minutes %= 60\n",
    "        \n",
    "        if sub_degrees < 0:\n",
    "            sub_minutes = -sub_minutes\n",
    "            sub_seconds = -sub_seconds\n",
    "            \n",
    "        return DMSAngle(sub_degrees, sub_minutes, sub_seconds)\n",
    "    \n",
    "    def __mul__(self, other):\n",
    "        return DMSAngle(self.degrees * other, self.minutes * other, self.seconds * other)\n",
    "    \n",
    "    def __rmul__(self, other):\n",
    "        return DMSAngle(self.degrees * other, self.minutes * other, self.seconds * other)\n",
    "    \n",
    "    def __truediv__(self, other):\n",
    "        return DMSAngle(self.degrees / other, self.minutes / other, self.seconds / other)\n",
    "    \n",
    "    def __eq__(self, other):\n",
    "        return self.to_decimal() == other.to_decimal()\n",
    "    \n",
    "    def __lt__(self, other):\n",
    "        return self.to_decimal() < other.to_decimal()\n",
    "    \n",
    "    def __gt__(self, other):\n",
    "        return self.to_decimal() > other.to_decimal()\n",
    "    \n",
    "    def __le__(self, other):\n",
    "        return self.to_decimal() <= other.to_decimal()\n",
    "    \n",
    "    def __ge__(self, other):\n",
    "        return self.to_decimal() >= other.to_decimal()\n",
    "    \n",
    "    def __ne__(self, other):\n",
    "        return self.to_decimal() != other.to_decimal()\n",
    "    \n",
    "    def __neg__(self):\n",
    "        return DMSAngle(-self.degrees, -self.minutes, -self.seconds)\n",
    "    \n",
    "    def __abs__(self):\n",
    "        if self.degrees < 0:\n",
    "            return DMSAngle(0) - self\n",
    "        else:\n",
    "            return self"
   ]
  },
  {
   "cell_type": "code",
   "execution_count": 6,
   "metadata": {},
   "outputs": [],
   "source": [
    "# data\n",
    "theta1_1 = DMSAngle(246, 13)\n",
    "theta1_prime_1 = DMSAngle(6, 15)\n",
    "theta2_1 = DMSAngle(66, 12)\n",
    "theta2_prime_1 = DMSAngle(186, 14)\n",
    "\n",
    "theta1_2 = DMSAngle(246, 13)\n",
    "theta1_prime_2 = DMSAngle(6, 13)\n",
    "theta2_2 = DMSAngle(66, 13)\n",
    "theta2_prime_2 = DMSAngle(186, 13)\n",
    "\n",
    "theta1_3 = DMSAngle(246, 13)\n",
    "theta1_prime_3 = DMSAngle(6, 14)\n",
    "theta2_3 = DMSAngle(66, 12)\n",
    "theta2_prime_3 = DMSAngle(186, 13)"
   ]
  },
  {
   "cell_type": "code",
   "execution_count": 7,
   "metadata": {},
   "outputs": [],
   "source": [
    "def calculate_angle_A(\n",
    "        theta1: DMSAngle, \n",
    "        theta1_prime: DMSAngle, \n",
    "        theta2: DMSAngle, \n",
    "        theta2_prime: DMSAngle,\n",
    "    ) -> DMSAngle:\n",
    "    \n",
    "    theta1_prime += DMSAngle(360) if theta1_prime < theta1 else DMSAngle(0)\n",
    "    theta2_prime += DMSAngle(360) if theta2_prime < theta2 else DMSAngle(0)\n",
    "    \n",
    "    return DMSAngle(180) - 0.5 * (abs(theta1_prime - theta1) + abs(theta2_prime - theta2))"
   ]
  },
  {
   "cell_type": "code",
   "execution_count": 12,
   "metadata": {},
   "outputs": [
    {
     "name": "stdout",
     "output_type": "stream",
     "text": [
      "A1 =  59.96666666666667\n",
      "A2 =  60.0\n",
      "A3 =  59.983333333333334\n",
      "A =  59.98333333333333\n"
     ]
    }
   ],
   "source": [
    "# calculate\n",
    "A1 = calculate_angle_A(theta1_1, theta1_prime_1, theta2_1, theta2_prime_1).to_decimal()\n",
    "A2 = calculate_angle_A(theta1_2, theta1_prime_2, theta2_2, theta2_prime_2).to_decimal()\n",
    "A3 = calculate_angle_A(theta1_3, theta1_prime_3, theta2_3, theta2_prime_3).to_decimal()\n",
    "\n",
    "# take the average\n",
    "A = (A1 + A2 + A3) / 3\n",
    "\n",
    "print('A1 = ', A1)\n",
    "print('A2 = ', A2)\n",
    "print('A3 = ', A3)\n",
    "print('A = ', A)"
   ]
  }
 ],
 "metadata": {
  "kernelspec": {
   "display_name": "sovits",
   "language": "python",
   "name": "python3"
  },
  "language_info": {
   "codemirror_mode": {
    "name": "ipython",
    "version": 3
   },
   "file_extension": ".py",
   "mimetype": "text/x-python",
   "name": "python",
   "nbconvert_exporter": "python",
   "pygments_lexer": "ipython3",
   "version": "3.9.20"
  }
 },
 "nbformat": 4,
 "nbformat_minor": 2
}
