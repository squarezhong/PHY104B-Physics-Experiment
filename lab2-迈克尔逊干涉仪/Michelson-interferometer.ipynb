{
 "cells": [
  {
   "cell_type": "code",
   "execution_count": 9,
   "metadata": {},
   "outputs": [],
   "source": [
    "import numpy as np\n",
    "\n",
    "# d1 - d12, units: mm\n",
    "data = np.array([\n",
    "    52.14080, 52.15661, 52.17230, 52.18788, 52.20365, 52.21925,\n",
    "    52.23500, 52.25090, 52.26670, 52.28247, 52.29845, 52.31450\n",
    "    ])\n"
   ]
  },
  {
   "cell_type": "code",
   "execution_count": 12,
   "metadata": {},
   "outputs": [
    {
     "name": "stdout",
     "output_type": "stream",
     "text": [
      "630.5889\n",
      "0.35\n"
     ]
    }
   ],
   "source": [
    "def calculate_wave_length(data):\n",
    "    \"\"\"Calculate the wavelength of the laser light using the Michelson interferometer data.\n",
    "    Args:\n",
    "        data (numpy.ndarray): The data from the Michelson interferometer.\n",
    "    Returns:\n",
    "        float: The calculated wavelength of the laser light in nm.\n",
    "    \"\"\"\n",
    "    wave_length = 2 / 50 * (sum(data[6:12]) - sum(data[0:6])) / 36 * 1e6\n",
    "    return wave_length.round(4)\n",
    "\n",
    "print(calculate_wave_length(data))\n",
    "\n",
    "relative_error = np.abs(calculate_wave_length(data) - 632.8) / 632.8 * 100\n",
    "print(relative_error.round(2))"
   ]
  }
 ],
 "metadata": {
  "kernelspec": {
   "display_name": "physics",
   "language": "python",
   "name": "python3"
  },
  "language_info": {
   "codemirror_mode": {
    "name": "ipython",
    "version": 3
   },
   "file_extension": ".py",
   "mimetype": "text/x-python",
   "name": "python",
   "nbconvert_exporter": "python",
   "pygments_lexer": "ipython3",
   "version": "3.13.0"
  }
 },
 "nbformat": 4,
 "nbformat_minor": 2
}
