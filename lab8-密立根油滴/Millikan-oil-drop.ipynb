{
 "cells": [
  {
   "cell_type": "markdown",
   "metadata": {},
   "source": [
    "# 密立根油滴实验\n",
    "\n",
    "## 数据记录\n",
    "- $t_g$: 油滴从 0 格线下降到 1.6mm 格线所需的时间\n",
    "- $U$: 每个油滴所对应的平衡电压\n",
    "\n",
    "共选择五个油滴，每个油滴测量三次下落时间。"
   ]
  },
  {
   "cell_type": "code",
   "execution_count": 5,
   "metadata": {},
   "outputs": [],
   "source": [
    "# constant\n",
    "q_ref = 1.602e-19\n",
    "\n",
    "# record data\n",
    "tg = [\n",
    "    [21.49, 21.58, 21.91],\n",
    "    [23.45, 23.30, 22.61],\n",
    "    [17.07, 16.59, 16.70],\n",
    "    [25.98, 25.41, 26.11],\n",
    "    [21.26, 21.21, 21.44]\n",
    "]\n",
    "\n",
    "U = [193, 169, 169, 137, 145]\n",
    "\n",
    "tg_bar = [sum(tg[i])/3 for i in range(5)]\n",
    "\n"
   ]
  },
  {
   "cell_type": "markdown",
   "metadata": {},
   "source": [
    "## 数据处理\n",
    "\n",
    "计算油滴电荷量\n",
    "\n",
    "$$\n",
    "q = \\displaystyle \\frac{18\\pi d}{\\sqrt{2\\rho g}} \\left[ \\frac{\\eta}{1+\\frac{b}{pr}} \\frac{l}{t_g}\\right]^{\\frac{3}{2}}\\frac{1}{U}\n",
    "$$\n",
    "\n",
    "代入已知量后简化的表达式：\n",
    "\n",
    "$$\n",
    "q = \\displaystyle \\frac{1.022 \\times 10^{-14}}{[(1+0.02139\\sqrt{t_g})t_g]^{\\frac{3}{2}}}\\frac{1}{U}\n",
    "$$"
   ]
  },
  {
   "cell_type": "code",
   "execution_count": 12,
   "metadata": {},
   "outputs": [
    {
     "name": "stdout",
     "output_type": "stream",
     "text": [
      "[9.44359077112683e-18, 9.740811189580206e-18, 1.5567363166808078e-17, 1.0036715519927059e-17, 1.2893376422519622e-17]\n",
      "[59, 61, 97, 63, 80]\n",
      "[1.600608605275734e-19, 1.5968542933738043e-19, 1.6048828007018637e-19, 1.5931294476074697e-19, 1.6116720528149528e-19]\n",
      "e = 1.601e-19 C\n"
     ]
    }
   ],
   "source": [
    "def calculate_q(tg, U):\n",
    "    q = 1.022e-14 / ((1 + 0.02139 * tg**0.5 * tg))**1.5 / U\n",
    "    return q\n",
    "\n",
    "q = [calculate_q(tg_bar[i], U[i]) for i in range(5)]\n",
    "\n",
    "n = [round(q[i] / q_ref) for i in range(5)]\n",
    "\n",
    "e_measure = [q[i] / n[i] for i in range(5)]\n",
    "e_measure_mean = sum(e_measure) / len(e_measure)\n",
    "\n",
    "print(q)\n",
    "print(n)\n",
    "print(e_measure)\n",
    "print(f\"e = {e_measure_mean:.3e} C\")"
   ]
  },
  {
   "cell_type": "markdown",
   "metadata": {},
   "source": []
  }
 ],
 "metadata": {
  "kernelspec": {
   "display_name": "sovits",
   "language": "python",
   "name": "python3"
  },
  "language_info": {
   "codemirror_mode": {
    "name": "ipython",
    "version": 3
   },
   "file_extension": ".py",
   "mimetype": "text/x-python",
   "name": "python",
   "nbconvert_exporter": "python",
   "pygments_lexer": "ipython3",
   "version": "3.9.20"
  }
 },
 "nbformat": 4,
 "nbformat_minor": 2
}
