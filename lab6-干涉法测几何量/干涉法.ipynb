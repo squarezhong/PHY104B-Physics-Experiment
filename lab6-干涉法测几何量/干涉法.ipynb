{
 "cells": [
  {
   "cell_type": "markdown",
   "metadata": {},
   "source": [
    "# 干涉法测量几何量\n",
    "24 Fall 该实验仅要求测量牛顿环半径。"
   ]
  },
  {
   "cell_type": "code",
   "execution_count": null,
   "metadata": {},
   "outputs": [],
   "source": [
    "# record data\n",
    "# d30, d25, ... d5, d'5, d'10, ... d'30\n",
    "d1 = [37.090, 36.692, 36.292, 35.864, 35.289, 34.635,\n",
    "        30.855, 30.142, 29.630, 29.159, 28.795, 28.407]\n",
    "\n",
    "d2 = [37.080, 36.641, 36.251, 35.806, 35.265, 34.598,\n",
    "        30.845, 30.132, 29.595, 29.149, 28.779, 28.375]\n",
    "\n",
    "d3 = [37.376, 36.922, 36.545, 36.080, 35.559, 34.857,\n",
    "        31.080, 30.392, 29.850, 29.412, 29.046, 28.665]\n",
    "\n",
    "lambda_phy = 589.3 * 1e-6 # mm"
   ]
  },
  {
   "cell_type": "code",
   "execution_count": null,
   "metadata": {},
   "outputs": [
    {
     "name": "stdout",
     "output_type": "stream",
     "text": [
      "1027.669274908712\n"
     ]
    }
   ],
   "source": [
    "D30 = sum((d1[0] - d1[-1]) for d1 in [d1, d2, d3]) / 3\n",
    "D25 = sum((d1[1] - d1[-2]) for d1 in [d1, d2, d3]) / 3\n",
    "D20 = sum((d1[2] - d1[-3]) for d1 in [d1, d2, d3]) / 3\n",
    "D15 = sum((d1[3] - d1[-4]) for d1 in [d1, d2, d3]) / 3\n",
    "D10 = sum((d1[4] - d1[-5]) for d1 in [d1, d2, d3]) / 3\n",
    "D05 = sum((d1[5] - d1[-6]) for d1 in [d1, d2, d3]) / 3\n",
    "\n",
    "R = (D30**2 - D15**2 + D25**2 - D10**2 + D20**2 - D05**2) / (3 * 4 * 15 * lambda_phy)\n",
    "\n",
    "print(R) #mm"
   ]
  },
  {
   "cell_type": "markdown",
   "metadata": {},
   "source": [
    "附表中需要记录每一组的直径，在下方计算并打印。"
   ]
  },
  {
   "cell_type": "code",
   "execution_count": null,
   "metadata": {},
   "outputs": [
    {
     "name": "stdout",
     "output_type": "stream",
     "text": [
      "8.683 7.897 7.133 6.234 5.147 3.780 \n",
      "8.705 7.862 7.102 6.211 5.133 3.753 \n",
      "8.711 7.876 7.133 6.230 5.167 3.777 \n"
     ]
    }
   ],
   "source": [
    "for d in [d1, d2, d3]:\n",
    "    for j in range(0, 6):\n",
    "        print(f'{d[j] - d[-j-1]:.3f}', end=' ')\n",
    "    print()"
   ]
  }
 ],
 "metadata": {
  "kernelspec": {
   "display_name": "development",
   "language": "python",
   "name": "python3"
  },
  "language_info": {
   "codemirror_mode": {
    "name": "ipython",
    "version": 3
   },
   "file_extension": ".py",
   "mimetype": "text/x-python",
   "name": "python",
   "nbconvert_exporter": "python",
   "pygments_lexer": "ipython3",
   "version": "3.10.10"
  }
 },
 "nbformat": 4,
 "nbformat_minor": 2
}
